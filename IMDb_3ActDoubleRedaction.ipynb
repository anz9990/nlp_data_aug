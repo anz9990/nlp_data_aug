{
  "nbformat": 4,
  "nbformat_minor": 0,
  "metadata": {
    "colab": {
      "name": "IMDb_3ActDoubleRedaction.ipynb",
      "version": "0.3.2",
      "provenance": [],
      "collapsed_sections": []
    },
    "language_info": {
      "codemirror_mode": {
        "name": "ipython",
        "version": 3
      },
      "file_extension": ".py",
      "mimetype": "text/x-python",
      "name": "python",
      "nbconvert_exporter": "python",
      "pygments_lexer": "ipython3",
      "version": "3.6.7"
    },
    "kernelspec": {
      "name": "python3",
      "display_name": "Python 3"
    },
    "accelerator": "GPU"
  },
  "cells": [
    {
      "cell_type": "markdown",
      "metadata": {
        "id": "view-in-github",
        "colab_type": "text"
      },
      "source": [
        "<a href=\"https://github.com/tianjianjiang/nlp_data_aug/blob/%232-double_redaction/DataAugmentation.ipynb\" target=\"_parent\"><img src=\"https://colab.research.google.com/assets/colab-badge.svg\" alt=\"Open In Colab\"/></a>"
      ]
    },
    {
      "cell_type": "markdown",
      "metadata": {
        "id": "Mo_37Hvmu1Zu",
        "colab_type": "text"
      },
      "source": [
        "# Prepare"
      ]
    },
    {
      "cell_type": "code",
      "metadata": {
        "id": "7Rc1eQNkJbMu",
        "colab_type": "code",
        "colab": {}
      },
      "source": [
        "# Ensure GPU spec; T4 is for colab and one can change it for another env.\n",
        "gpu_list = !nvidia-smi -L\n",
        "if gpu_list[0].startswith('NVIDIA-SMI has failed'):\n",
        "  print('Runtime type should be GPU.')\n",
        "elif not gpu_list[0].startswith('GPU 0: Tesla T4'):\n",
        "  display(gpu_list)\n",
        "  print('Please reset all runtimes. We need a Tesla T4 to reproduce!')\n",
        "else:\n",
        "  display(gpu_list)"
      ],
      "execution_count": 0,
      "outputs": []
    },
    {
      "cell_type": "code",
      "metadata": {
        "id": "YiTanId3Jj4Y",
        "colab_type": "code",
        "colab": {}
      },
      "source": [
        "%%capture pip_logs\n",
        "!pip install -U fastai==1.0.55 ipyexperiments jupyter-console==5.2.0 coveralls coverage datascience albumentations"
      ],
      "execution_count": 0,
      "outputs": []
    },
    {
      "cell_type": "code",
      "metadata": {
        "id": "WR31yOijJo4S",
        "colab_type": "code",
        "colab": {}
      },
      "source": [
        "import gc\n",
        "import math\n",
        "from pathlib import Path\n",
        "import random\n",
        "\n",
        "import numpy as np\n",
        "import torch\n",
        "from google.colab import drive\n",
        "\n",
        "from fastai import basic_data, basic_train, core\n",
        "from fastai import *\n",
        "from fastai.callbacks import CSVLogger\n",
        "from fastai.core import plt\n",
        "from fastai.text import *\n",
        "from fastprogress import fastprogress\n",
        "\n",
        "from ipyexperiments import *"
      ],
      "execution_count": 0,
      "outputs": []
    },
    {
      "cell_type": "code",
      "metadata": {
        "id": "750YV3Kl2Jee",
        "colab_type": "code",
        "colab": {}
      },
      "source": [
        "# Not set earlier because pip may require a restart.\n",
        "SESSN_START_T, = !date +%Y%m%dT%H%M"
      ],
      "execution_count": 0,
      "outputs": []
    },
    {
      "cell_type": "code",
      "metadata": {
        "id": "zOXyO-FUJvXP",
        "colab_type": "code",
        "colab": {}
      },
      "source": [
        "%load_ext autoreload\n",
        "%autoreload 2"
      ],
      "execution_count": 0,
      "outputs": []
    },
    {
      "cell_type": "code",
      "metadata": {
        "id": "XHmdJ_d0Jx8A",
        "colab_type": "code",
        "colab": {}
      },
      "source": [
        "# A special treatment for colab to decrease network traffic.\n",
        "fastprogress.NO_BAR = True\n",
        "master_bar, progress_bar = fastprogress.force_console_behavior()\n",
        "basic_train.master_bar, basic_train.progress_bar = master_bar, progress_bar\n",
        "basic_data.master_bar, basic_data.progress_bar = master_bar, progress_bar\n",
        "dataclass.master_bar, dataclass.progress_bar = master_bar, progress_bar\n",
        "text.master_bar, text.progress_bar = master_bar, progress_bar\n",
        "text.data.master_bar, text.data.progress_bar = master_bar, progress_bar\n",
        "core.master_bar, core.progress_bar = master_bar, progress_bar"
      ],
      "execution_count": 0,
      "outputs": []
    },
    {
      "cell_type": "code",
      "metadata": {
        "id": "ajNgLJVwJ0dv",
        "colab_type": "code",
        "colab": {}
      },
      "source": [
        "COLAB_CONTENT_DIR_P = Path('/content')\n",
        "GD_DIR_P = COLAB_CONTENT_DIR_P / 'gdrive'\n",
        "drive.mount(str(GD_DIR_P), force_remount=True)"
      ],
      "execution_count": 0,
      "outputs": []
    },
    {
      "cell_type": "code",
      "metadata": {
        "id": "WGLRqDJIJ7H2",
        "colab_type": "code",
        "colab": {}
      },
      "source": [
        "BASE_DIR_P = GD_DIR_P / 'My Drive/imdb'\n",
        "BASE_DIR_P.mkdir(parents=True, exist_ok=True)\n",
        "DATA_DIR_P = BASE_DIR_P / 'data'\n",
        "DATA_DIR_P.mkdir(parents=True, exist_ok=True)\n",
        "MDLS_DIR_P = BASE_DIR_P / 'models'\n",
        "MDLS_DIR_P.mkdir(parents=True, exist_ok=True)\n",
        "LOGS_DIR_P = BASE_DIR_P / 'logs'\n",
        "LOGS_DIR_P.mkdir(parents=True, exist_ok=True)\n",
        "\n",
        "FASTAI_DATA_DIR_P = Path('/root/.fastai/data')\n",
        "FASTAI_DATA_DIR_P.mkdir(parents=True, exist_ok=True)\n",
        "\n",
        "COLAB_DATA_DIR_P = COLAB_CONTENT_DIR_P / 'data'\n",
        "if not COLAB_DATA_DIR_P.is_symlink():\n",
        "  COLAB_DATA_DIR_P.symlink_to(FASTAI_DATA_DIR_P)\n",
        "if (COLAB_CONTENT_DIR_P / 'sample_data').exists():\n",
        "  !set -x; rm -rf /content/sample_data/"
      ],
      "execution_count": 0,
      "outputs": []
    },
    {
      "cell_type": "markdown",
      "metadata": {
        "id": "neO8tyJ0KD_l",
        "colab_type": "text"
      },
      "source": [
        "## Download Data Once"
      ]
    },
    {
      "cell_type": "code",
      "metadata": {
        "id": "YgwIycLT2Jeo",
        "colab_type": "code",
        "colab": {}
      },
      "source": [
        "# IMDB_DATA_IN_COLAB_DIR_P = COLAB_DATA_DIR_P / 'imdb'\n",
        "IMDB_DATA_IN_COLAB_DIR_P = untar_data(URLs.IMDB, dest=FASTAI_DATA_DIR_P)"
      ],
      "execution_count": 0,
      "outputs": []
    },
    {
      "cell_type": "markdown",
      "metadata": {
        "id": "NQWurYz4WkOm",
        "colab_type": "text"
      },
      "source": [
        "# Define"
      ]
    },
    {
      "cell_type": "code",
      "metadata": {
        "id": "jvbuT1cQBh3_",
        "colab_type": "code",
        "colab": {}
      },
      "source": [
        "n_dbnch_wrkrs = 0\n",
        "\n",
        "BPTT = 80\n",
        "LM_BS = 128\n",
        "cf_bs = 64\n",
        "LM_LR = 0.0251\n",
        "cf_lr = 5.18e-2\n",
        "cf_wd = 0.1\n",
        "cf_drop_mult = 0.5\n",
        "moms = (0.8, 0.7)\n",
        "\n",
        "VOCAB_FILE_P = DATA_DIR_P / 'imdb_vocab.pkl'\n",
        "\n",
        "FW_LM_DBNCH_FILE_S = f'fw_lm_dbnch-b{LM_BS}.pkl'\n",
        "FW_CF_DBNCH_FILE_S = f'fw_cf_dbnch-b{cf_bs}.pkl'\n",
        "\n",
        "FW_ENC_NAME = f'fw_enc-b{LM_BS}-lr{LM_LR}'\n",
        "\n",
        "IMDb_CLASSES = ['neg', 'pos']"
      ],
      "execution_count": 0,
      "outputs": []
    },
    {
      "cell_type": "code",
      "metadata": {
        "id": "Et-TwvtiAKw-",
        "colab_type": "code",
        "colab": {}
      },
      "source": [
        "# Set a constant seed for every random number generator.\n",
        "SEED = 42\n",
        "\n",
        "\n",
        "def reset_random_states(seed=SEED):\n",
        "  random.seed(SEED)\n",
        "  np.random.seed(SEED)\n",
        "  torch.manual_seed(SEED)\n",
        "  if torch.cuda.is_available(): torch.cuda.manual_seed_all(SEED)\n",
        "  torch.backends.cudnn.deterministic = True  # About 15% slower but...\n",
        "  torch.backends.cudnn.benchmark = False\n",
        "\n",
        "\n",
        "def build_cf_databunch(\n",
        "    data_dir_p,\n",
        "    bs,\n",
        "    vocab,\n",
        "    ag_data_dir_p_lst=[],\n",
        "    tags=IMDb_CLASSES,\n",
        "    n_workers=n_dbnch_wrkrs,\n",
        "):\n",
        "  reset_random_states()\n",
        "  il = TextList.from_folder(data_dir_p, vocab=vocab).split_by_folder(valid='test')\n",
        "  for ag_data_dir_p in ag_data_dir_p_lst:\n",
        "    il.train.add(TextList.from_folder(ag_data_dir_p, vocab=vocab).split_none().train)\n",
        "  ll = il.label_from_folder(classes=tags)\n",
        "  return ll.databunch(bs=bs, num_workers=n_workers)\n",
        "\n",
        "\n",
        "def init_cf_learner_with_encoder(dbnch, drop_mult, enc_name, base_path=BASE_DIR_P):\n",
        "  reset_random_states()\n",
        "  cf_learn = text_classifier_learner(dbnch, AWD_LSTM, drop_mult=drop_mult, path=base_path, pretrained=False)\n",
        "  cf_learn.load_encoder(enc_name)\n",
        "  return cf_learn\n",
        "\n",
        "\n",
        "def init_cf_cycles(learner, lr, moms, wd, clbks, n_cycles=1):\n",
        "  print(f'init cf lr: {lr}')\n",
        "  reset_random_states()\n",
        "  learner.fit_one_cycle(n_cycles, lr, moms=moms, wd=wd, callbacks=clbks)\n",
        "  return learner\n",
        "\n",
        "\n",
        "def tune_cf_cycles(\n",
        "    learner,\n",
        "    lr,\n",
        "    moms,\n",
        "    wd,\n",
        "    clbks_tuple,\n",
        "    n_cycles_tuple=(1,1,2),\n",
        "    freeze_steps=(-2,-3,None),\n",
        "    lr_decays=(2,2,5)\n",
        "):\n",
        "  reset_random_states()\n",
        "  for n_cycles, freeze_step, lr_decay, clbks in zip(\n",
        "      n_cycles_tuple, freeze_steps, lr_decays, clbks_tuple):\n",
        "    if freeze_step is not None:\n",
        "      learner.freeze_to(freeze_step)\n",
        "    else:\n",
        "      learner.unfreeze()\n",
        "    lr /= lr_decay\n",
        "    print(f'tune cf lr: {lr}')\n",
        "    learner.fit_one_cycle(n_cycles, slice(lr/(2.6**4),lr), moms=moms, wd=wd, callbacks=clbks)\n",
        "  return learner"
      ],
      "execution_count": 0,
      "outputs": []
    },
    {
      "cell_type": "code",
      "metadata": {
        "id": "HdWmkxty2JfW",
        "colab_type": "code",
        "colab": {}
      },
      "source": [
        "def double_redact(txt_p, txt_id, chance, out_dir_p, noise='xxunk', seed=SEED):\n",
        "    random.seed(seed)\n",
        "#     pick_some = False\n",
        "#     picks = 1 if pick_some else None\n",
        "    with open(txt_p, 'r') as txt_f:\n",
        "        txt = txt_f.read()\n",
        "        chosen_idx_set_list = []\n",
        "        tkns = txt.split()\n",
        "        n_tkn = len(tkns)\n",
        "        tkn_idx_set = set(range(n_tkn))\n",
        "        n_sample = math.ceil(n_tkn * chance)\n",
        "#         picked = 0\n",
        "        while n_sample <= n_tkn:\n",
        "            chosen_idx_set = set(random.sample(sorted(tkn_idx_set), k=n_sample))\n",
        "            chosen_idx_set_list += [chosen_idx_set]\n",
        "            tkn_idx_set -= chosen_idx_set\n",
        "            n_tkn = len(tkn_idx_set)\n",
        "#             picked += 1\n",
        "#             if pick_some and picked == picks:\n",
        "#                 break\n",
        "        for ver, idx_set in enumerate(chosen_idx_set_list):\n",
        "            dr_tkns = tkns.copy()\n",
        "            dr_fname = f'{txt_p.stem}_dr-c{chance}-v{ver}{txt_p.suffix}'\n",
        "            with open(out_dir_p / dr_fname, 'w') as dr_f:\n",
        "                for chosen_idx in idx_set:\n",
        "                    dr_tkns[chosen_idx] = noise\n",
        "                dr_f.write(' '.join(dr_tkns))"
      ],
      "execution_count": 0,
      "outputs": []
    },
    {
      "cell_type": "code",
      "metadata": {
        "id": "IcPS-2xdlIJz",
        "colab_type": "code",
        "colab": {}
      },
      "source": [
        "# Single-threaded although the func is compatible with fastai's `parallel()`\n",
        "def double_redact_trn_txts(\n",
        "    chance,\n",
        "    parent_dir_p=IMDB_DATA_IN_COLAB_DIR_P,\n",
        "    tags=IMDb_CLASSES,\n",
        "):\n",
        "  tgt_parent_dir_p = parent_dir_p.parent / f'{parent_dir_p.stem}-dr{chance}'\n",
        "  for tag in tags:\n",
        "    src_dir_p = parent_dir_p / f'train/{tag}'\n",
        "    tgt_dir_p = tgt_parent_dir_p / f'train/{tag}'\n",
        "    tgt_dir_p.mkdir(parents=True, exist_ok=True)\n",
        "    txts = src_dir_p.glob('*.txt')\n",
        "    for i, txt in enumerate(txts):\n",
        "      double_redact(txt, i, chance, tgt_dir_p)\n",
        "  return tgt_parent_dir_p"
      ],
      "execution_count": 0,
      "outputs": []
    },
    {
      "cell_type": "markdown",
      "metadata": {
        "id": "xChgvQH5XFa4",
        "colab_type": "text"
      },
      "source": [
        "# Fit"
      ]
    },
    {
      "cell_type": "markdown",
      "metadata": {
        "id": "km18BRwBjnjI",
        "colab_type": "text"
      },
      "source": [
        "## Double-redacted Data in All Cycles"
      ]
    },
    {
      "cell_type": "markdown",
      "metadata": {
        "id": "K4hmUWZRhzZ4",
        "colab_type": "text"
      },
      "source": [
        "A.k.a. Two Act Structure\n",
        "\n",
        "If Act-1 is the setup of language model, this is the second Act on confronting perturbations."
      ]
    },
    {
      "cell_type": "code",
      "metadata": {
        "id": "zj0276GDj4V5",
        "colab_type": "code",
        "colab": {}
      },
      "source": [
        "redact_chance = 0.25\n",
        "fw_cf_dbnch_dr_fname = f'fw_cf_dbnch-dr{redact_chance}-b{cf_bs}.pkl'"
      ],
      "execution_count": 0,
      "outputs": []
    },
    {
      "cell_type": "markdown",
      "metadata": {
        "id": "USfAQnTUWvZ-",
        "colab_type": "text"
      },
      "source": [
        "### Augment"
      ]
    },
    {
      "cell_type": "code",
      "metadata": {
        "id": "-xGpfjFrNArh",
        "colab_type": "code",
        "colab": {}
      },
      "source": [
        "orig_trn_txts = list(IMDB_DATA_IN_COLAB_DIR_P.glob(f'./train/*/*[0-9].txt'))\n",
        "sorted(orig_trn_txts)[:3]"
      ],
      "execution_count": 0,
      "outputs": []
    },
    {
      "cell_type": "code",
      "metadata": {
        "id": "D7RgXD19OnPy",
        "colab_type": "code",
        "colab": {}
      },
      "source": [
        "dr_trn_dir_p = double_redact_trn_txts(redact_chance)"
      ],
      "execution_count": 0,
      "outputs": []
    },
    {
      "cell_type": "code",
      "metadata": {
        "id": "_WTbXZ4VM4qX",
        "colab_type": "code",
        "colab": {}
      },
      "source": [
        "dr_trn_txts = list(dr_trn_dir_p.glob('**/*.txt'))\n",
        "sorted(dr_trn_txts)[:12]"
      ],
      "execution_count": 0,
      "outputs": []
    },
    {
      "cell_type": "code",
      "metadata": {
        "id": "-et30j7pNaPc",
        "colab_type": "code",
        "colab": {}
      },
      "source": [
        "n_orig_trn = len(orig_trn_txts)\n",
        "n_dr_trn = len(dr_trn_txts)\n",
        "print(f'{n_orig_trn} original\\n{n_dr_trn} double-redacted')"
      ],
      "execution_count": 0,
      "outputs": []
    },
    {
      "cell_type": "code",
      "metadata": {
        "id": "UCiuT8kSGX4B",
        "colab_type": "code",
        "colab": {}
      },
      "source": [
        "# reset_random_states()\n",
        "# fw_lm_dbnch = load_data(DATA_DIR_P, FW_LM_DBNCH_FILE_S, bs=LM_BS, bptt=BPTT, num_workers=n_dbnch_wrkrs)\n",
        "# fw_lm_dbnch.vocab.save(VOCAB_FILE_P)\n",
        "# del fw_lm_dbnch; gc.collect()"
      ],
      "execution_count": 0,
      "outputs": []
    },
    {
      "cell_type": "code",
      "metadata": {
        "id": "Ox4nIaZlDcOu",
        "colab_type": "code",
        "colab": {}
      },
      "source": [
        "imdb_vocab = Vocab.load(VOCAB_FILE_P)\n",
        "fw_cf_dbnch_dr = build_cf_databunch(IMDB_DATA_IN_COLAB_DIR_P, cf_bs, imdb_vocab, [dr_trn_dir_p])\n",
        "fw_cf_dbnch_dr.save(DATA_DIR_P / fw_cf_dbnch_dr_fname)"
      ],
      "execution_count": 0,
      "outputs": []
    },
    {
      "cell_type": "code",
      "metadata": {
        "id": "JTne-6MywSf-",
        "colab_type": "code",
        "colab": {}
      },
      "source": [
        "# reset_random_states()\n",
        "# fw_cf_dbnch_dr = load_data(DATA_DIR_P, fw_cf_dbnch_dr_fname, bs=cf_bs, num_workers=n_dbnch_wrkrs)"
      ],
      "execution_count": 0,
      "outputs": []
    },
    {
      "cell_type": "code",
      "metadata": {
        "id": "7ZD2wDLIA_o7",
        "colab_type": "code",
        "colab": {}
      },
      "source": [
        "fw_cf_dr_learn = init_cf_learner_with_encoder(fw_cf_dbnch_dr, cf_drop_mult, FW_ENC_NAME)"
      ],
      "execution_count": 0,
      "outputs": []
    },
    {
      "cell_type": "markdown",
      "metadata": {
        "id": "uTD7i8qWnfSj",
        "colab_type": "text"
      },
      "source": [
        "### Init-fit"
      ]
    },
    {
      "cell_type": "code",
      "metadata": {
        "id": "4Zs6gxnwrAxm",
        "colab_type": "code",
        "outputId": "bf4c2d69-1d9f-402a-e2d3-747fbee6daa3",
        "colab": {
          "base_uri": "https://localhost:8080/",
          "height": 84
        }
      },
      "source": [
        "init_fw_cf_dr_log_p = LOGS_DIR_P / f'{SESSN_START_T}-init_fw_cf-a2-s1-dr{redact_chance}-b{cf_bs}-lr{cf_lr}'\n",
        "init_fw_cf_dr_clbks = [CSVLogger(fw_cf_dr_learn, init_fw_cf_dr_log_p, append=True)]\n",
        "fw_cf_dr_learn = init_cf_cycles(fw_cf_dr_learn, cf_lr, moms, cf_wd, init_fw_cf_dr_clbks)\n",
        "FW_CF_CONFRONTATION_SCENE1_NAME = f'fw_cf-a2-s1-dr{redact_chance}-b{cf_bs}-lr{cf_lr}'\n",
        "fw_cf_dr_learn.save(FW_CF_CONFRONTATION_SCENE1_NAME)"
      ],
      "execution_count": 0,
      "outputs": [
        {
          "output_type": "stream",
          "text": [
            "init cf lr: 0.0518\n",
            "epoch     train_loss  valid_loss  accuracy  time    \n",
            "0         0.309854    0.179218    0.933240  08:54     \n"
          ],
          "name": "stdout"
        }
      ]
    },
    {
      "cell_type": "code",
      "metadata": {
        "id": "6ezgY3NgGBj6",
        "colab_type": "code",
        "outputId": "a862fab0-dc9b-4e33-eeda-7e6f5d8994d4",
        "colab": {
          "base_uri": "https://localhost:8080/",
          "height": 84
        }
      },
      "source": [
        ""
      ],
      "execution_count": 0,
      "outputs": [
        {
          "output_type": "stream",
          "text": [
            "init cf lr: 0.0518\n",
            "epoch     train_loss  valid_loss  accuracy  time    \n",
            "0         0.268904    0.173237    0.935800  13:02     \n"
          ],
          "name": "stdout"
        }
      ]
    },
    {
      "cell_type": "code",
      "metadata": {
        "id": "z3N7od_TQQ-a",
        "colab_type": "code",
        "outputId": "3c0f387f-8b77-43a1-952e-ed904c83793c",
        "colab": {
          "base_uri": "https://localhost:8080/",
          "height": 84
        }
      },
      "source": [
        ""
      ],
      "execution_count": 0,
      "outputs": [
        {
          "output_type": "stream",
          "text": [
            "init cf lr: 0.0518\n",
            "epoch     train_loss  valid_loss  accuracy  time    \n",
            "0         0.272350    0.172224    0.935720  13:56     \n"
          ],
          "name": "stdout"
        }
      ]
    },
    {
      "cell_type": "code",
      "metadata": {
        "id": "4Ehle9w-BHeI",
        "colab_type": "code",
        "outputId": "f28df299-f4f8-43d7-f5e2-2469e7b4a663",
        "colab": {
          "base_uri": "https://localhost:8080/",
          "height": 84
        }
      },
      "source": [
        ""
      ],
      "execution_count": 0,
      "outputs": [
        {
          "output_type": "stream",
          "text": [
            "init cf lr: 0.0518\n",
            "epoch     train_loss  valid_loss  accuracy  time    \n",
            "0         0.278960    0.173263    0.933920  11:36     \n"
          ],
          "name": "stdout"
        }
      ]
    },
    {
      "cell_type": "markdown",
      "metadata": {
        "id": "Ff6Kt-VrTs8T",
        "colab_type": "text"
      },
      "source": [
        "\n",
        "#### Comparing with baselines of init. cycle\n",
        "----\n",
        "    Mike\n",
        "    0         0.222152    0.176532    0.934160  04:57\n",
        "\n",
        "----\n",
        "    fastai example\n",
        "    0         0.246949    0.180387    0.931840  01:14"
      ]
    },
    {
      "cell_type": "markdown",
      "metadata": {
        "id": "Am-5r4INnXxi",
        "colab_type": "text"
      },
      "source": [
        "### Fine-tune"
      ]
    },
    {
      "cell_type": "code",
      "metadata": {
        "id": "2mRJciblrCgP",
        "colab_type": "code",
        "outputId": "ffa9eda6-7b25-4150-f684-f0a8cc1d8247",
        "colab": {
          "base_uri": "https://localhost:8080/",
          "height": 238
        }
      },
      "source": [
        "a2_tune_fw_cf_dr_clbks_tuple = (\n",
        "    [CSVLogger(\n",
        "        fw_cf_dr_learn,\n",
        "        LOGS_DIR_P / f'{SESSN_START_T}-tune_fw_cf-a2-s2-dr{redact_chance}-b{cf_bs}-p1',\n",
        "        append=True)],\n",
        ")\n",
        "fw_cf_dr_learn = tune_cf_cycles(\n",
        "    fw_cf_dr_learn,\n",
        "    cf_lr,\n",
        "    moms,\n",
        "    cf_wd,\n",
        "    a2_tune_fw_cf_dr_clbks_tuple,\n",
        "    n_cycles_tuple=(1,),\n",
        "    freeze_steps=(-2,),\n",
        "    lr_decays=(2,)\n",
        ")\n",
        "FW_CF_CONFRONTATION_SCENE2_NAME = f'fw_cf-a2-s2-dr{redact_chance}-b{cf_bs}-lr{cf_lr}'\n",
        "fw_cf_dr_learn.save(FW_CF_CONFRONTATION_SCENE2_NAME)\n",
        "\n",
        "a2_tune_fw_cf_dr_clbks_tuple = (\n",
        "    [CSVLogger(\n",
        "        fw_cf_dr_learn,\n",
        "        LOGS_DIR_P / f'{SESSN_START_T}-tune_fw_cf-a2-s3-dr{redact_chance}-b{cf_bs}-p{period}',\n",
        "        append=True)]\n",
        "    for period in range(2,4)\n",
        ")\n",
        "fw_cf_dr_learn = tune_cf_cycles(\n",
        "    fw_cf_dr_learn,\n",
        "    cf_lr,\n",
        "    moms,\n",
        "    cf_wd,\n",
        "    a2_tune_fw_cf_dr_clbks_tuple,\n",
        "    n_cycles_tuple=(1,2),\n",
        "    freeze_steps=(-3,None),\n",
        "    lr_decays=(2*2,5)\n",
        ")"
      ],
      "execution_count": 0,
      "outputs": [
        {
          "output_type": "stream",
          "text": [
            "tune cf lr: 0.0259\n",
            "epoch     train_loss  valid_loss  accuracy  time    \n",
            "0         0.253780    0.143132    0.947360  10:32     \n",
            "tune cf lr: 0.01295\n",
            "epoch     train_loss  valid_loss  accuracy  time    \n",
            "0         0.213023    0.137004    0.950280  16:18     \n",
            "tune cf lr: 0.00259\n",
            "epoch     train_loss  valid_loss  accuracy  time    \n",
            "0         0.150868    0.152152    0.945960  21:36     \n",
            "1         0.102201    0.154852    0.947160  22:07     \n"
          ],
          "name": "stdout"
        }
      ]
    },
    {
      "cell_type": "code",
      "metadata": {
        "id": "Sq9IQuLOKfO0",
        "colab_type": "code",
        "outputId": "78b8ac71-37f5-4d93-99bb-33f3eeee8451",
        "colab": {
          "base_uri": "https://localhost:8080/",
          "height": 238
        }
      },
      "source": [
        ""
      ],
      "execution_count": 0,
      "outputs": [
        {
          "output_type": "stream",
          "text": [
            "tune cf lr: 0.0259\n",
            "epoch     train_loss  valid_loss  accuracy  time    \n",
            "0         0.199623    0.135700    0.950200  15:33     \n",
            "tune cf lr: 0.01295\n",
            "epoch     train_loss  valid_loss  accuracy  time    \n",
            "0         0.148599    0.133771    0.950960  24:57     \n",
            "tune cf lr: 0.00259\n",
            "epoch     train_loss  valid_loss  accuracy  time    \n",
            "0         0.090739    0.172821    0.947680  33:40     \n",
            "1         0.045258    0.182786    0.950920  32:02     \n"
          ],
          "name": "stdout"
        }
      ]
    },
    {
      "cell_type": "code",
      "metadata": {
        "id": "0Wmc9YhcQUYz",
        "colab_type": "code",
        "outputId": "557c5c17-fc13-43bf-dfc0-5b0761ff202d",
        "colab": {
          "base_uri": "https://localhost:8080/",
          "height": 238
        }
      },
      "source": [
        ""
      ],
      "execution_count": 0,
      "outputs": [
        {
          "output_type": "stream",
          "text": [
            "tune cf lr: 0.0259\n",
            "epoch     train_loss  valid_loss  accuracy  time    \n",
            "0         0.189328    0.143150    0.947920  15:41     \n",
            "tune cf lr: 0.01295\n",
            "epoch     train_loss  valid_loss  accuracy  time    \n",
            "0         0.115525    0.145131    0.947680  26:20     \n",
            "tune cf lr: 0.00259\n",
            "epoch     train_loss  valid_loss  accuracy  time    \n",
            "0         0.072761    0.171645    0.947720  32:42     \n",
            "1         0.029662    0.204256    0.947640  31:28     \n"
          ],
          "name": "stdout"
        }
      ]
    },
    {
      "cell_type": "code",
      "metadata": {
        "id": "Mjc6W2z2BKnl",
        "colab_type": "code",
        "outputId": "e40b17f2-d856-4a59-c7ec-6e75bc3f2724",
        "colab": {
          "base_uri": "https://localhost:8080/",
          "height": 238
        }
      },
      "source": [
        ""
      ],
      "execution_count": 0,
      "outputs": [
        {
          "output_type": "stream",
          "text": [
            "tune cf lr: 0.0259\n",
            "epoch     train_loss  valid_loss  accuracy  time    \n",
            "0         0.206510    0.137578    0.949840  13:55     \n",
            "tune cf lr: 0.01295\n",
            "epoch     train_loss  valid_loss  accuracy  time    \n",
            "0         0.170256    0.135338    0.950080  18:30     \n",
            "tune cf lr: 0.00259\n",
            "epoch     train_loss  valid_loss  accuracy  time    \n",
            "0         0.118340    0.146070    0.949160  28:36     \n",
            "1         0.061189    0.177552    0.949440  26:11     \n"
          ],
          "name": "stdout"
        }
      ]
    },
    {
      "cell_type": "markdown",
      "metadata": {
        "id": "gSk86yCYVa-k",
        "colab_type": "text"
      },
      "source": [
        "#### Comparing with baselines of fine-tuning cycles\n",
        "----\n",
        "    Mike\n",
        "    0         0.190170    0.153062    0.944160  05:36\n",
        "    0         0.180019    0.138620    0.949240  08:08\n",
        "    0         0.130078    0.143215    0.945520  09:48\n",
        "    1         0.083496    0.142682    0.949720  09:03\n",
        "\n",
        "----\n",
        "    fastai example\n",
        "    0         0.206164    0.152391    0.945360  01:28\n",
        "    0         0.181309    0.141463    0.948080  02:30\n",
        "    0         0.123944    0.145212    0.948840  03:18\n",
        "    1         0.072845    0.155692    0.949560  03:00\n"
      ]
    },
    {
      "cell_type": "code",
      "metadata": {
        "id": "QSZ3f1hABP0R",
        "colab_type": "code",
        "colab": {}
      },
      "source": [
        "# fw_cf_dr_learn.export(MDLS_DIR_P / f'export-fw_cf-dr{redact_chance}-b{cf_bs}-lr{cf_lr}')"
      ],
      "execution_count": 0,
      "outputs": []
    },
    {
      "cell_type": "code",
      "metadata": {
        "id": "dVMDmxYGBTb6",
        "colab_type": "code",
        "colab": {}
      },
      "source": [
        "fw_cf_dr_learn.destroy(); del fw_cf_dr_learn; del fw_cf_dbnch_dr; gc.collect(); torch.cuda.empty_cache()"
      ],
      "execution_count": 0,
      "outputs": []
    },
    {
      "cell_type": "markdown",
      "metadata": {
        "id": "hKHl-Fk1uIg9",
        "colab_type": "text"
      },
      "source": [
        "# Fit Double-redacted Data in Middle Cycles (3-Act Structure)"
      ]
    },
    {
      "cell_type": "markdown",
      "metadata": {
        "id": "EF1qTCsgdqFU",
        "colab_type": "text"
      },
      "source": [
        "Act-1, a.k.a. setup, is the language model (transfer) learning."
      ]
    },
    {
      "cell_type": "markdown",
      "metadata": {
        "id": "tQODQ5nlw-1T",
        "colab_type": "text"
      },
      "source": [
        "## Act-2: Confrontation on Double-redacted Data"
      ]
    },
    {
      "cell_type": "code",
      "metadata": {
        "id": "fnxEQbiagi_D",
        "colab_type": "code",
        "colab": {}
      },
      "source": [
        "# reset_all_nondeterministic_states()\n",
        "# fw_cf_dbnch_dr = load_data(DATA_DIR_P, fw_cf_dbnch_dr_fname, bs=cf_bs, num_workers=n_dbnch_wrkrs)"
      ],
      "execution_count": 0,
      "outputs": []
    },
    {
      "cell_type": "code",
      "metadata": {
        "id": "_ngMt5F4v5KF",
        "colab_type": "code",
        "colab": {}
      },
      "source": [
        "# a2_fw_cf_dr_learn = init_cf_learner_with_encoder(fw_cf_dbnch_dr, cf_drop_mult, FW_ENC_NAME)\n",
        "# a2_fw_cf_dr_log_p = LOGS_DIR_P / f'{SESSN_START_T}-init_fw_cf-a2-dr{redact_chance}-b{cf_bs}-lr{cf_lr}'\n",
        "# a2_fw_cf_dr_clbks = [CSVLogger(a2_fw_cf_dr_learn, a2_fw_cf_dr_log_p, append=True)]\n",
        "# a2_fw_cf_dr_learn = init_cf_cycles(a2_fw_cf_dr_learn, cf_lr, moms, cf_wd, a2_fw_cf_dr_clbks)"
      ],
      "execution_count": 0,
      "outputs": []
    },
    {
      "cell_type": "code",
      "metadata": {
        "id": "2VlvpCMB6zWs",
        "colab_type": "code",
        "colab": {}
      },
      "source": [
        "# FW_CF_CONFRONTATION_SCENE1_NAME = f'fw_cf-a2-s1-dr{redact_chance}-b{cf_bs}-lr{cf_lr}'\n",
        "# a2_fw_cf_dr_learn.save(FW_CF_CONFRONTATION_SCENE1_NAME)"
      ],
      "execution_count": 0,
      "outputs": []
    },
    {
      "cell_type": "code",
      "metadata": {
        "id": "KXRz-ImaDWcN",
        "colab_type": "code",
        "colab": {}
      },
      "source": [
        "# a2_tune_fw_cf_dr_clbks_tuple = (\n",
        "#     [CSVLogger(\n",
        "#         a2_fw_cf_dr_learn,\n",
        "#         LOGS_DIR_P / f'{SESSN_START_T}-tune_fw_cf-a2-dr{redact_chance}-b{cf_bs}-p1',\n",
        "#         append=True)],\n",
        "# )\n",
        "# a2_fw_cf_dr_learn = tune_cf_cycles(\n",
        "#     a2_fw_cf_dr_learn,\n",
        "#     cf_lr,\n",
        "#     moms,\n",
        "#     cf_wd,\n",
        "#     a2_tune_fw_cf_dr_clbks_tuple,\n",
        "#     n_cycles_tuple=(1,),\n",
        "#     freeze_steps=(-2,),\n",
        "#     lr_decays=(2,)\n",
        "# )"
      ],
      "execution_count": 0,
      "outputs": []
    },
    {
      "cell_type": "code",
      "metadata": {
        "id": "NR9czS020JGg",
        "colab_type": "code",
        "colab": {}
      },
      "source": [
        "# FW_CF_CONFRONTATION_SCENE2_NAME = f'fw_cf-a2-s2-dr{redact_chance}-b{cf_bs}-lr{cf_lr}'\n",
        "# a2_fw_cf_dr_learn.save(FW_CF_CONFRONTATION_SCENE2_NAME)"
      ],
      "execution_count": 0,
      "outputs": []
    },
    {
      "cell_type": "code",
      "metadata": {
        "id": "szMyWq2N3_ef",
        "colab_type": "code",
        "colab": {}
      },
      "source": [
        "# a2_fw_cf_dr_learn.destroy(); del a2_fw_cf_dr_learn; del fw_cf_dbnch_dr; gc.collect(); torch.cuda.empty_cache()"
      ],
      "execution_count": 0,
      "outputs": []
    },
    {
      "cell_type": "markdown",
      "metadata": {
        "id": "gLNVRqRX3hZo",
        "colab_type": "text"
      },
      "source": [
        "## Act-3: Resolution on Orig. Data"
      ]
    },
    {
      "cell_type": "code",
      "metadata": {
        "id": "p8cQWdM1fo8D",
        "colab_type": "code",
        "colab": {}
      },
      "source": [
        "reset_all_nondeterministic_states()\n",
        "fw_cf_dbnch = load_data(DATA_DIR_P, FW_CF_DBNCH_FILE_S, bs=cf_bs, num_workers=n_dbnch_wrkrs)"
      ],
      "execution_count": 0,
      "outputs": []
    },
    {
      "cell_type": "code",
      "metadata": {
        "id": "P-vawQdD3mow",
        "colab_type": "code",
        "colab": {}
      },
      "source": [
        "a3_fw_cf_learn = init_cf_learner_with_encoder(fw_cf_dbnch, cf_drop_mult, FW_ENC_NAME)"
      ],
      "execution_count": 0,
      "outputs": []
    },
    {
      "cell_type": "code",
      "metadata": {
        "id": "pgqJKQ_M3uWO",
        "colab_type": "code",
        "colab": {}
      },
      "source": [
        "a3_fw_cf_learn = a3_fw_cf_learn.load(FW_CF_CONFRONTATION_SCENE2_NAME)"
      ],
      "execution_count": 0,
      "outputs": []
    },
    {
      "cell_type": "code",
      "metadata": {
        "id": "q4iD8RXtrFOh",
        "colab_type": "code",
        "outputId": "4722cc62-c160-4de7-e216-46b5855998d0",
        "colab": {
          "base_uri": "https://localhost:8080/",
          "height": 172
        }
      },
      "source": [
        "a3_tune_fw_cf_clbks_tuple = (\n",
        "    [CSVLogger(\n",
        "        a3_fw_cf_learn,\n",
        "        LOGS_DIR_P / f'{SESSN_START_T}-tune_fw_cf-a3-dr{redact_chance}-b{cf_bs}-p{period}',\n",
        "        append=True)]\n",
        "   for period in range(2,4)\n",
        ")\n",
        "a3_fw_cf_learn = tune_cf_cycles(\n",
        "    a3_fw_cf_learn,\n",
        "    cf_lr,\n",
        "    moms,\n",
        "    cf_wd,\n",
        "    a3_tune_fw_cf_clbks_tuple,\n",
        "    n_cycles_tuple=(1,2),\n",
        "    freeze_steps=(-3,None),\n",
        "    lr_decays=(2*2,5)\n",
        ")"
      ],
      "execution_count": 0,
      "outputs": [
        {
          "output_type": "stream",
          "text": [
            "tune cf lr: 0.01295\n",
            "epoch     train_loss  valid_loss  accuracy  time    \n",
            "0         0.169314    0.143823    0.946400  07:38     \n",
            "tune cf lr: 0.00259\n",
            "epoch     train_loss  valid_loss  accuracy  time    \n",
            "0         0.122866    0.139531    0.947920  09:38     \n",
            "1         0.076164    0.150975    0.948240  09:17     \n"
          ],
          "name": "stdout"
        }
      ]
    },
    {
      "cell_type": "code",
      "metadata": {
        "id": "W8y_l63y5oAZ",
        "colab_type": "code",
        "colab": {}
      },
      "source": [
        "FW_CF_RESOLUTION_NAME = f'fw_cf-a3-dr{redact_chance}-b{cf_bs}-lr{cf_lr}'\n",
        "a3_fw_cf_learn.save(FW_CF_RESOLUTION_NAME)"
      ],
      "execution_count": 0,
      "outputs": []
    },
    {
      "cell_type": "code",
      "metadata": {
        "id": "vDwOBlxc6OYK",
        "colab_type": "code",
        "colab": {}
      },
      "source": [
        "a3_fw_cf_learn.destroy(); del a3_fw_cf_learn; del fw_cf_dbnch; gc.collect(); torch.cuda.empty_cache()"
      ],
      "execution_count": 0,
      "outputs": []
    }
  ]
}