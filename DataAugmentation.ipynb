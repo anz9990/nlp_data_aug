{
  "nbformat": 4,
  "nbformat_minor": 0,
  "metadata": {
    "colab": {
      "name": "DataAugmentation.ipynb",
      "version": "0.3.2",
      "provenance": [],
      "collapsed_sections": []
    },
    "language_info": {
      "codemirror_mode": {
        "name": "ipython",
        "version": 3
      },
      "file_extension": ".py",
      "mimetype": "text/x-python",
      "name": "python",
      "nbconvert_exporter": "python",
      "pygments_lexer": "ipython3",
      "version": "3.6.7"
    },
    "kernelspec": {
      "name": "python3",
      "display_name": "Python 3"
    },
    "accelerator": "GPU"
  },
  "cells": [
    {
      "cell_type": "markdown",
      "metadata": {
        "id": "view-in-github",
        "colab_type": "text"
      },
      "source": [
        "<a href=\"https://github.com/tianjianjiang/nlp_data_aug/blob/%232-double_redaction/DataAugmentation.ipynb\" target=\"_parent\"><img src=\"https://colab.research.google.com/assets/colab-badge.svg\" alt=\"Open In Colab\"/></a>"
      ]
    },
    {
      "cell_type": "markdown",
      "metadata": {
        "id": "Mo_37Hvmu1Zu",
        "colab_type": "text"
      },
      "source": [
        "# Prepare"
      ]
    },
    {
      "cell_type": "code",
      "metadata": {
        "id": "7Rc1eQNkJbMu",
        "colab_type": "code",
        "colab": {}
      },
      "source": [
        "# Ensure GPU spec; T4 is for colab and one can change it for another env.\n",
        "gpu_list = !nvidia-smi -L\n",
        "if gpu_list[0].startswith('NVIDIA-SMI has failed'):\n",
        "  print('Runtime type should be GPU.')\n",
        "elif not gpu_list[0].startswith('GPU 0: Tesla T4'):\n",
        "  display(gpu_list)\n",
        "  print('Please reset all runtimes. We need a Tesla T4 to reproduce the experiments!')\n",
        "else:\n",
        "  display(gpu_list)"
      ],
      "execution_count": 0,
      "outputs": []
    },
    {
      "cell_type": "code",
      "metadata": {
        "id": "YiTanId3Jj4Y",
        "colab_type": "code",
        "colab": {}
      },
      "source": [
        "%%capture pip_logs\n",
        "!pip install -U fastai==1.0.55 ipyexperiments jupyter-console==5.2.0 coveralls coverage datascience albumentations"
      ],
      "execution_count": 0,
      "outputs": []
    },
    {
      "cell_type": "code",
      "metadata": {
        "id": "WR31yOijJo4S",
        "colab_type": "code",
        "colab": {}
      },
      "source": [
        "import gc\n",
        "import math\n",
        "from pathlib import Path\n",
        "import random\n",
        "\n",
        "import numpy as np\n",
        "import torch\n",
        "from google.colab import drive\n",
        "\n",
        "from fastai import basic_data, basic_train, core\n",
        "from fastai import *\n",
        "from fastai.callbacks import CSVLogger\n",
        "from fastai.core import plt\n",
        "from fastai.text import *\n",
        "from fastprogress import fastprogress\n",
        "\n",
        "from ipyexperiments import *"
      ],
      "execution_count": 0,
      "outputs": []
    },
    {
      "cell_type": "code",
      "metadata": {
        "id": "750YV3Kl2Jee",
        "colab_type": "code",
        "colab": {}
      },
      "source": [
        "# Not set earlier because pip may require a restart.\n",
        "SESSN_START_T, = !date +%Y%m%dT%H%M"
      ],
      "execution_count": 0,
      "outputs": []
    },
    {
      "cell_type": "code",
      "metadata": {
        "id": "zOXyO-FUJvXP",
        "colab_type": "code",
        "colab": {}
      },
      "source": [
        "%load_ext autoreload\n",
        "%autoreload 2"
      ],
      "execution_count": 0,
      "outputs": []
    },
    {
      "cell_type": "code",
      "metadata": {
        "id": "XHmdJ_d0Jx8A",
        "colab_type": "code",
        "colab": {}
      },
      "source": [
        "# A special treatment for colab to decrease network traffic.\n",
        "fastprogress.NO_BAR = True\n",
        "master_bar, progress_bar = fastprogress.force_console_behavior()\n",
        "basic_train.master_bar, basic_train.progress_bar = master_bar, progress_bar\n",
        "basic_data.master_bar, basic_data.progress_bar = master_bar, progress_bar\n",
        "dataclass.master_bar, dataclass.progress_bar = master_bar, progress_bar\n",
        "text.master_bar, text.progress_bar = master_bar, progress_bar\n",
        "text.data.master_bar, text.data.progress_bar = master_bar, progress_bar\n",
        "core.master_bar, core.progress_bar = master_bar, progress_bar"
      ],
      "execution_count": 0,
      "outputs": []
    },
    {
      "cell_type": "code",
      "metadata": {
        "id": "ajNgLJVwJ0dv",
        "colab_type": "code",
        "colab": {}
      },
      "source": [
        "COLAB_CONTENT_DIR_P = Path('/content')\n",
        "GD_DIR_P = COLAB_CONTENT_DIR_P / 'gdrive'\n",
        "drive.mount(str(GD_DIR_P), force_remount=True)"
      ],
      "execution_count": 0,
      "outputs": []
    },
    {
      "cell_type": "code",
      "metadata": {
        "id": "WGLRqDJIJ7H2",
        "colab_type": "code",
        "colab": {}
      },
      "source": [
        "BASE_DIR_P = GD_DIR_P / 'My Drive/imdb'\n",
        "BASE_DIR_P.mkdir(parents=True, exist_ok=True)\n",
        "DATA_DIR_P = BASE_DIR_P / 'data'\n",
        "DATA_DIR_P.mkdir(parents=True, exist_ok=True)\n",
        "MDLS_DIR_P = BASE_DIR_P / 'models'\n",
        "MDLS_DIR_P.mkdir(parents=True, exist_ok=True)\n",
        "LOGS_DIR_P = BASE_DIR_P / 'logs'\n",
        "LOGS_DIR_P.mkdir(parents=True, exist_ok=True)\n",
        "\n",
        "FASTAI_DATA_DIR_P = Path('/root/.fastai/data')\n",
        "FASTAI_DATA_DIR_P.mkdir(parents=True, exist_ok=True)\n",
        "\n",
        "COLAB_DATA_DIR_P = COLAB_CONTENT_DIR_P / 'data'\n",
        "if not COLAB_DATA_DIR_P.is_symlink():\n",
        "  COLAB_DATA_DIR_P.symlink_to(FASTAI_DATA_DIR_P)\n",
        "if (COLAB_CONTENT_DIR_P / 'sample_data').exists():\n",
        "  !set -x; rm -rf /content/sample_data/"
      ],
      "execution_count": 0,
      "outputs": []
    },
    {
      "cell_type": "markdown",
      "metadata": {
        "id": "neO8tyJ0KD_l",
        "colab_type": "text"
      },
      "source": [
        "# Download Data Once"
      ]
    },
    {
      "cell_type": "code",
      "metadata": {
        "id": "YgwIycLT2Jeo",
        "colab_type": "code",
        "colab": {}
      },
      "source": [
        "path = untar_data(URLs.IMDB,dest=FASTAI_DATA_DIR_P)"
      ],
      "execution_count": 0,
      "outputs": []
    },
    {
      "cell_type": "code",
      "metadata": {
        "id": "Wavu9Rvg2Jeu",
        "colab_type": "code",
        "outputId": "473187d9-3755-4911-8c16-ad20eaba74bf",
        "colab": {}
      },
      "source": [
        "path.ls()"
      ],
      "execution_count": 0,
      "outputs": [
        {
          "output_type": "execute_result",
          "data": {
            "text/plain": [
              "[PosixPath('data/imdb/test'),\n",
              " PosixPath('data/imdb/README'),\n",
              " PosixPath('data/imdb/unsup'),\n",
              " PosixPath('data/imdb/imdb.vocab'),\n",
              " PosixPath('data/imdb/tmp_lm'),\n",
              " PosixPath('data/imdb/models'),\n",
              " PosixPath('data/imdb/train'),\n",
              " PosixPath('data/imdb/imdb'),\n",
              " PosixPath('data/imdb/tmp_clas')]"
            ]
          },
          "metadata": {
            "tags": []
          },
          "execution_count": 3
        }
      ]
    },
    {
      "cell_type": "markdown",
      "metadata": {
        "id": "o65oD919Kazm",
        "colab_type": "text"
      },
      "source": [
        "# Asir's Experiments"
      ]
    },
    {
      "cell_type": "code",
      "metadata": {
        "id": "BB2t8VEM2Je2",
        "colab_type": "code",
        "colab": {}
      },
      "source": [
        "data_lm = load_data(path,'imdb')"
      ],
      "execution_count": 0,
      "outputs": []
    },
    {
      "cell_type": "code",
      "metadata": {
        "id": "2skru5Qm2Je5",
        "colab_type": "code",
        "outputId": "a7ac3dbe-5b6e-4146-8761-be88bbd1368f",
        "colab": {}
      },
      "source": [
        "data_lm.show_batch()"
      ],
      "execution_count": 0,
      "outputs": [
        {
          "output_type": "display_data",
          "data": {
            "text/html": [
              "<table border=\"1\" class=\"dataframe\">\n",
              "  <thead>\n",
              "    <tr style=\"text-align: right;\">\n",
              "      <th>idx</th>\n",
              "      <th>text</th>\n",
              "    </tr>\n",
              "  </thead>\n",
              "  <tbody>\n",
              "    <tr>\n",
              "      <td>0</td>\n",
              "      <td>new . xxmaj have we all forgotten xxmaj de xxmaj sica 's \" xxmaj bicycle xxmaj thief \" ? xxmaj or anything by xxmaj hitchcock ? \\n \\n  xxmaj so all we get is the extended metaphor of the juvenile as xxmaj truffaut , who spends all his free time ' screwing up his eyes ' at the movies , who wrecks schoolroom discipline , gets accused of xxunk</td>\n",
              "    </tr>\n",
              "    <tr>\n",
              "      <td>1</td>\n",
              "      <td>film and plays his usual , smarmy , egotistical , snotty character that was actually endearing in \" xxmaj pretty xxmaj in xxmaj pink \" and has xxup not been amusing ever since . xxmaj grating does n't even begin to describe his performance . xxmaj ricky ( xxmaj mark xxmaj xxunk ) is a muscular , blonde , struggling actor who ( gasp ! ) is only worried about</td>\n",
              "    </tr>\n",
              "    <tr>\n",
              "      <td>2</td>\n",
              "      <td>xxmaj clan , they 're nasty &amp; they do bad things but they ai n't go no soul . i see a lot of reviews from people that liked this , and i guess i do n't know what i missed , but i found it to be very mediocre &amp; i would n't recommend it to anyone , really . 4 out of 10 . xxbos xxmaj this movie</td>\n",
              "    </tr>\n",
              "    <tr>\n",
              "      <td>3</td>\n",
              "      <td>see if you can count the cliches . xxmaj and yes , xxmaj blair gets possessed , as if you did n't see xxup that coming down xxmaj main xxmaj street followed by a marching band . \\n \\n  xxmaj no stars . \" xxmaj witchery \" - these witches will give you xxunk . xxbos xxmaj charlotte 's deadly beauty and lethal kicks make the movie cooler than</td>\n",
              "    </tr>\n",
              "    <tr>\n",
              "      <td>4</td>\n",
              "      <td>stallone , who co - wrote the script with xxmaj james xxmaj cameron ( a long way from the exciting xxup terminator made the previous xxunk seems to have given the xxmaj rambo character as little to say in understandable xxmaj english , and merely comes out with moronic grunts , almost as though he has invented his own brand of patois only understandable to himself . xxmaj maybe his</td>\n",
              "    </tr>\n",
              "  </tbody>\n",
              "</table>"
            ],
            "text/plain": [
              "<IPython.core.display.HTML object>"
            ]
          },
          "metadata": {
            "tags": []
          }
        }
      ]
    },
    {
      "cell_type": "code",
      "metadata": {
        "id": "rmVRyQnX2Je9",
        "colab_type": "code",
        "colab": {}
      },
      "source": [
        "import spacy\n",
        "import random\n",
        "import nltk \n",
        "from nltk.corpus import wordnet \n",
        "import en_core_web_lg\n",
        "import re"
      ],
      "execution_count": 0,
      "outputs": []
    },
    {
      "cell_type": "code",
      "metadata": {
        "id": "ZQnCmlQo2Je_",
        "colab_type": "code",
        "colab": {}
      },
      "source": [
        "def synalter_Noun_Verb(cand_word,POS):\n",
        "    thresh = -1\n",
        "    scores = []\n",
        "    synonyms = wordnet.synsets(cand_word)\n",
        "    for w2 in synonyms:\n",
        "        try:\n",
        "            w1 = wordnet.synset(cand_word+'.'+POS+'.01') \n",
        "        #w2 = wordnet.synset(word+'.'+POS+'.01') # n denotes noun \n",
        "            if (w1.wup_similarity(w2)>thresh):\n",
        "                scores.append(w1.wup_similarity(w2))\n",
        "            return synonyms[np.argmax(scores)].name().split('.')[0].replace('_',' ')\n",
        "        except:\n",
        "            if not scores:\n",
        "                for synset in synonyms:\n",
        "                    word=synset.name().split('.')[0].replace('_',' ')\n",
        "                    #print(word)\n",
        "                    token = nlp(word)\n",
        "                    token_main = nlp(cand_word)\n",
        "                    if token.vector_norm and token_main.vector_norm and float(token.similarity(token_main)) > thresh:\n",
        "                        scores.append(float(token.similarity(token_main)))\n",
        "            return synonyms[np.argmax(scores)].name().split('.')[0].replace('_',' ')"
      ],
      "execution_count": 0,
      "outputs": []
    },
    {
      "cell_type": "code",
      "metadata": {
        "id": "ldhqIAGb2JfB",
        "colab_type": "code",
        "colab": {}
      },
      "source": [
        "nlp = spacy.load('en_core_web_lg')"
      ],
      "execution_count": 0,
      "outputs": []
    },
    {
      "cell_type": "code",
      "metadata": {
        "id": "kPAWghWu2JfD",
        "colab_type": "code",
        "outputId": "faa5604f-6f8c-44f7-dc04-8d816b6cba1f",
        "colab": {}
      },
      "source": [
        "doc = nlp('bright car running')\n",
        "[tok.pos_ for tok in doc]"
      ],
      "execution_count": 0,
      "outputs": [
        {
          "output_type": "execute_result",
          "data": {
            "text/plain": [
              "['ADJ', 'NOUN', 'VERB']"
            ]
          },
          "metadata": {
            "tags": []
          },
          "execution_count": 8
        }
      ]
    },
    {
      "cell_type": "code",
      "metadata": {
        "id": "2Zjo4kOa2JfG",
        "colab_type": "code",
        "colab": {}
      },
      "source": [
        "def change_words(word_str,pos,output_text):\n",
        "    change_word=synalter_Noun_Verb(word_str,pos)\n",
        "    if change_word:\n",
        "        search_word = re.search(r'\\b('+word_str+r')\\b', output_text)\n",
        "        Loc = search_word.start()\n",
        "        output_text = output_text[:int(Loc)] + change_word + output_text[int(Loc) + len(word_str):] \n",
        "        \n",
        "    return output_text"
      ],
      "execution_count": 0,
      "outputs": []
    },
    {
      "cell_type": "code",
      "metadata": {
        "id": "qhh40Zuy2JfH",
        "colab_type": "code",
        "colab": {}
      },
      "source": [
        "from glob import glob"
      ],
      "execution_count": 0,
      "outputs": []
    },
    {
      "cell_type": "code",
      "metadata": {
        "id": "2zySKTBg2JfJ",
        "colab_type": "code",
        "outputId": "58e0c1b6-74dc-422c-8594-4a44e33e3b3d",
        "colab": {}
      },
      "source": [
        "files = glob(str(path)+'/**/*.txt',recursive=True)\n",
        "len(files)"
      ],
      "execution_count": 0,
      "outputs": [
        {
          "output_type": "execute_result",
          "data": {
            "text/plain": [
              "107858"
            ]
          },
          "metadata": {
            "tags": []
          },
          "execution_count": 11
        }
      ]
    },
    {
      "cell_type": "code",
      "metadata": {
        "id": "Pe2Clseo2JfL",
        "colab_type": "code",
        "outputId": "4425947b-df8d-4cc1-fff8-a081a83258fe",
        "colab": {}
      },
      "source": [
        "files = [f for f in files if '_aug.txt' not in f] #skip already augmented files\n",
        "len(files)"
      ],
      "execution_count": 0,
      "outputs": [
        {
          "output_type": "execute_result",
          "data": {
            "text/plain": [
              "100002"
            ]
          },
          "metadata": {
            "tags": []
          },
          "execution_count": 12
        }
      ]
    },
    {
      "cell_type": "code",
      "metadata": {
        "id": "xYsBUJIx2JfO",
        "colab_type": "code",
        "colab": {}
      },
      "source": [
        "class text_augmenter(object):\n",
        "#    def __init__(self):\n",
        "    \n",
        "    def __call__(self, fn,i): \n",
        "        #print(f'augmenting file {fn}')\n",
        "        output_text = open(fn,'r').read()\n",
        "        #print(\"Sentence: \"+text)\n",
        "        counts = Counter(output_text.split())\n",
        "        noun = []\n",
        "        verb = []\n",
        "        doc = nlp(' '.join(w for w in [key for key,value in counts.items() if value ==1]))\n",
        "        noun = [tok.text for tok in doc if tok.pos_ == 'NOUN']\n",
        "        verb = [tok.text for tok in doc if tok.pos_ == 'VERB']\n",
        "        adj = [tok.text for tok in doc if tok.pos_ == 'ADJ']\n",
        "        cand_words = noun+verb+adj\n",
        "        len_all = len(verb+noun+adj)\n",
        "        random.seed(4)\n",
        "        temp = random.sample(range(len_all), random.randint(0,int(len_all*0.7)))\n",
        "        #print([cand_words[i] for i in temp])\n",
        "        for i in temp:\n",
        "            word_str = cand_words[i]\n",
        "            if i<len(verb):output_text = change_words(word_str,'v',output_text)\n",
        "            elif i<len(noun): output_text = change_words(word_str,'n',output_text)\n",
        "            else:output_text=change_words(word_str,'a',output_text)\n",
        "        new_fn = fn.replace('.txt','_aug.txt')\n",
        "        with open(new_fn,'w') as f:\n",
        "            f.write(output_text)\n",
        "        #print(f'saving augmented file to {new_fn}')"
      ],
      "execution_count": 0,
      "outputs": []
    },
    {
      "cell_type": "code",
      "metadata": {
        "scrolled": true,
        "id": "Ac7QJ2r32JfQ",
        "colab_type": "code",
        "outputId": "d4330ba1-bac8-49db-bee7-a89fbe54f668",
        "colab": {}
      },
      "source": [
        "parallel(text_augmenter(),files)"
      ],
      "execution_count": 0,
      "outputs": [
        {
          "output_type": "display_data",
          "data": {
            "text/html": [
              "\n",
              "    <div>\n",
              "        <style>\n",
              "            /* Turns off some styling */\n",
              "            progress {\n",
              "                /* gets rid of default border in Firefox and Opera. */\n",
              "                border: none;\n",
              "                /* Needs to be in here for Safari polyfill so background images work as expected. */\n",
              "                background-size: auto;\n",
              "            }\n",
              "            .progress-bar-interrupted, .progress-bar-interrupted::-webkit-progress-bar {\n",
              "                background: #F44336;\n",
              "            }\n",
              "        </style>\n",
              "      <progress value='100002' class='' max='100002', style='width:300px; height:20px; vertical-align: middle;'></progress>\n",
              "      100.00% [100002/100002 3:58:03<00:00]\n",
              "    </div>\n",
              "    "
            ],
            "text/plain": [
              "<IPython.core.display.HTML object>"
            ]
          },
          "metadata": {
            "tags": []
          }
        }
      ]
    },
    {
      "cell_type": "code",
      "metadata": {
        "id": "12lFTmSK2JfS",
        "colab_type": "code",
        "outputId": "2b1e9a5e-b321-41aa-945d-d9e03da225af",
        "colab": {}
      },
      "source": [
        "files = glob(str(path)+'/**/*.txt',recursive=True)\n",
        "len(files)"
      ],
      "execution_count": 0,
      "outputs": [
        {
          "output_type": "execute_result",
          "data": {
            "text/plain": [
              "190980"
            ]
          },
          "metadata": {
            "tags": []
          },
          "execution_count": 15
        }
      ]
    },
    {
      "cell_type": "markdown",
      "metadata": {
        "id": "WHcryV3i2Jfc",
        "colab_type": "text"
      },
      "source": [
        "Test out the Augmentation on a Classification Task"
      ]
    },
    {
      "cell_type": "code",
      "metadata": {
        "id": "el49Lg2u2Jfd",
        "colab_type": "code",
        "colab": {}
      },
      "source": [
        "bs=64"
      ],
      "execution_count": 0,
      "outputs": []
    },
    {
      "cell_type": "code",
      "metadata": {
        "id": "YtsiMhy02Jfe",
        "colab_type": "code",
        "colab": {}
      },
      "source": [
        "data_clas = (TextList.from_folder(path, vocab=data_lm.vocab)\n",
        "             #grab all the text files in path\n",
        "             .split_by_folder(valid='test')\n",
        "             #split by train and valid folder (that only keeps 'train' and 'test' so no need to filter)\n",
        "             .label_from_folder(classes=['neg', 'pos'])\n",
        "             #label them all with their folders\n",
        "             .databunch(bs=bs))"
      ],
      "execution_count": 0,
      "outputs": []
    },
    {
      "cell_type": "code",
      "metadata": {
        "id": "v1nG7k942Jff",
        "colab_type": "code",
        "colab": {}
      },
      "source": [
        "learn = text_classifier_learner(data_clas, AWD_LSTM, drop_mult=0.5)\n",
        "learn.load_encoder('fine_tuned_enc')"
      ],
      "execution_count": 0,
      "outputs": []
    },
    {
      "cell_type": "code",
      "metadata": {
        "id": "GS-Z3EcM2Jfg",
        "colab_type": "code",
        "outputId": "f6865013-0370-49cc-8b1d-d20d04695456",
        "colab": {}
      },
      "source": [
        "learn.fit_one_cycle(1, 2e-2, moms=(0.8,0.7))"
      ],
      "execution_count": 0,
      "outputs": [
        {
          "output_type": "display_data",
          "data": {
            "text/html": [
              "<table border=\"1\" class=\"dataframe\">\n",
              "  <thead>\n",
              "    <tr style=\"text-align: left;\">\n",
              "      <th>epoch</th>\n",
              "      <th>train_loss</th>\n",
              "      <th>valid_loss</th>\n",
              "      <th>accuracy</th>\n",
              "      <th>time</th>\n",
              "    </tr>\n",
              "  </thead>\n",
              "  <tbody>\n",
              "    <tr>\n",
              "      <td>0</td>\n",
              "      <td>0.299670</td>\n",
              "      <td>0.192940</td>\n",
              "      <td>0.925820</td>\n",
              "      <td>05:20</td>\n",
              "    </tr>\n",
              "  </tbody>\n",
              "</table>"
            ],
            "text/plain": [
              "<IPython.core.display.HTML object>"
            ]
          },
          "metadata": {
            "tags": []
          }
        }
      ]
    },
    {
      "cell_type": "code",
      "metadata": {
        "id": "_ohstM672Jfi",
        "colab_type": "code",
        "outputId": "4f8b5c4a-01a5-4f35-8624-7f1589701d0f",
        "colab": {}
      },
      "source": [
        "learn.freeze_to(-2)\n",
        "learn.fit_one_cycle(1, slice(1e-2/(2.6**4),1e-2), moms=(0.8,0.7))"
      ],
      "execution_count": 0,
      "outputs": [
        {
          "output_type": "display_data",
          "data": {
            "text/html": [
              "<table border=\"1\" class=\"dataframe\">\n",
              "  <thead>\n",
              "    <tr style=\"text-align: left;\">\n",
              "      <th>epoch</th>\n",
              "      <th>train_loss</th>\n",
              "      <th>valid_loss</th>\n",
              "      <th>accuracy</th>\n",
              "      <th>time</th>\n",
              "    </tr>\n",
              "  </thead>\n",
              "  <tbody>\n",
              "    <tr>\n",
              "      <td>0</td>\n",
              "      <td>0.224495</td>\n",
              "      <td>0.165303</td>\n",
              "      <td>0.937353</td>\n",
              "      <td>06:32</td>\n",
              "    </tr>\n",
              "  </tbody>\n",
              "</table>"
            ],
            "text/plain": [
              "<IPython.core.display.HTML object>"
            ]
          },
          "metadata": {
            "tags": []
          }
        }
      ]
    },
    {
      "cell_type": "code",
      "metadata": {
        "id": "bP61j4Ai2Jfk",
        "colab_type": "code",
        "outputId": "917701bc-ba49-498c-d49f-5275928073c5",
        "colab": {}
      },
      "source": [
        "learn.freeze_to(-3)\n",
        "learn.fit_one_cycle(1, slice(5e-3/(2.6**4),5e-3), moms=(0.8,0.7))"
      ],
      "execution_count": 0,
      "outputs": [
        {
          "output_type": "display_data",
          "data": {
            "text/html": [
              "<table border=\"1\" class=\"dataframe\">\n",
              "  <thead>\n",
              "    <tr style=\"text-align: left;\">\n",
              "      <th>epoch</th>\n",
              "      <th>train_loss</th>\n",
              "      <th>valid_loss</th>\n",
              "      <th>accuracy</th>\n",
              "      <th>time</th>\n",
              "    </tr>\n",
              "  </thead>\n",
              "  <tbody>\n",
              "    <tr>\n",
              "      <td>0</td>\n",
              "      <td>0.245834</td>\n",
              "      <td>0.164227</td>\n",
              "      <td>0.938295</td>\n",
              "      <td>08:42</td>\n",
              "    </tr>\n",
              "  </tbody>\n",
              "</table>"
            ],
            "text/plain": [
              "<IPython.core.display.HTML object>"
            ]
          },
          "metadata": {
            "tags": []
          }
        }
      ]
    },
    {
      "cell_type": "code",
      "metadata": {
        "id": "NVDo9DBx2Jfm",
        "colab_type": "code",
        "outputId": "860cb2e6-e6d6-4b36-ae76-815d336adf23",
        "colab": {}
      },
      "source": [
        "learn.unfreeze()\n",
        "learn.fit_one_cycle(2, slice(1e-3/(2.6**4),1e-3), moms=(0.8,0.7))"
      ],
      "execution_count": 0,
      "outputs": [
        {
          "output_type": "display_data",
          "data": {
            "text/html": [
              "<table border=\"1\" class=\"dataframe\">\n",
              "  <thead>\n",
              "    <tr style=\"text-align: left;\">\n",
              "      <th>epoch</th>\n",
              "      <th>train_loss</th>\n",
              "      <th>valid_loss</th>\n",
              "      <th>accuracy</th>\n",
              "      <th>time</th>\n",
              "    </tr>\n",
              "  </thead>\n",
              "  <tbody>\n",
              "    <tr>\n",
              "      <td>0</td>\n",
              "      <td>0.219863</td>\n",
              "      <td>0.162315</td>\n",
              "      <td>0.940054</td>\n",
              "      <td>11:20</td>\n",
              "    </tr>\n",
              "    <tr>\n",
              "      <td>1</td>\n",
              "      <td>0.198715</td>\n",
              "      <td>0.159760</td>\n",
              "      <td>0.940995</td>\n",
              "      <td>10:19</td>\n",
              "    </tr>\n",
              "  </tbody>\n",
              "</table>"
            ],
            "text/plain": [
              "<IPython.core.display.HTML object>"
            ]
          },
          "metadata": {
            "tags": []
          }
        }
      ]
    },
    {
      "cell_type": "code",
      "metadata": {
        "id": "ZlyIpa722Jfo",
        "colab_type": "code",
        "colab": {}
      },
      "source": [
        "learn.save('clas-aug')"
      ],
      "execution_count": 0,
      "outputs": []
    },
    {
      "cell_type": "markdown",
      "metadata": {
        "id": "F4niehZi9kkg",
        "colab_type": "text"
      },
      "source": [
        "# Mike's Experiments"
      ]
    },
    {
      "cell_type": "markdown",
      "metadata": {
        "id": "NQWurYz4WkOm",
        "colab_type": "text"
      },
      "source": [
        "## Define"
      ]
    },
    {
      "cell_type": "code",
      "metadata": {
        "id": "-Uuw6FVm_FDj",
        "colab_type": "code",
        "colab": {}
      },
      "source": [
        "IMDB_DATA_IN_COLAB_DIR_P = COLAB_DATA_DIR_P / 'imdb'"
      ],
      "execution_count": 0,
      "outputs": []
    },
    {
      "cell_type": "code",
      "metadata": {
        "id": "jvbuT1cQBh3_",
        "colab_type": "code",
        "colab": {}
      },
      "source": [
        "BPTT = 80\n",
        "LM_BS = 128\n",
        "LM_LR = 0.0251\n",
        "FW_LM_DBNCH_FILE_S = f'fw_lm_dbnch-b{LM_BS}.pkl'\n",
        "FW_ENC_NAME = f'fw_enc-b{LM_BS}-lr{LM_LR}'"
      ],
      "execution_count": 0,
      "outputs": []
    },
    {
      "cell_type": "code",
      "metadata": {
        "id": "bA--9Msb_UOq",
        "colab_type": "code",
        "colab": {}
      },
      "source": [
        "cf_bs = 64\n",
        "moms = (0.8, 0.7)\n",
        "cf_drop_mult = 0.5\n",
        "cf_wd = 0.1\n",
        "n_dbnch_wrkrs = 0\n",
        "\n",
        "FW_CF_DBNCH_FILE_S = f'fw_cf_dbnch-b{cf_bs}.pkl'"
      ],
      "execution_count": 0,
      "outputs": []
    },
    {
      "cell_type": "code",
      "metadata": {
        "id": "Et-TwvtiAKw-",
        "colab_type": "code",
        "colab": {}
      },
      "source": [
        "# Set a constant seed for every random number generator.\n",
        "SEED = 42\n",
        "\n",
        "\n",
        "def reset_all_nondeterministic_states(seed=SEED):\n",
        "  random.seed(SEED)\n",
        "  np.random.seed(SEED)\n",
        "  torch.manual_seed(SEED)\n",
        "  if torch.cuda.is_available(): torch.cuda.manual_seed_all(SEED)\n",
        "  torch.backends.cudnn.deterministic = True  # About 15% slower but...\n",
        "  torch.backends.cudnn.benchmark = False\n",
        "\n",
        "\n",
        "def build_cf_databunch(data_dir_p, n_workers, bs, vocab):\n",
        "  reset_all_nondeterministic_states()\n",
        "  return (TextList.from_folder(data_dir_p, vocab=vocab)\n",
        "          .split_by_folder(valid='test')\n",
        "          .label_from_folder(classes=['neg', 'pos'])\n",
        "          .databunch(bs=bs, num_workers=n_workers))\n",
        "\n",
        "\n",
        "def init_cf_learner_with_encoder(dbnch, drop_mult, enc_name, base_path=BASE_DIR_P):\n",
        "  reset_all_nondeterministic_states()\n",
        "  cf_learn = text_classifier_learner(dbnch, AWD_LSTM, drop_mult=drop_mult, path=base_path, pretrained=False)\n",
        "  cf_learn.load_encoder(enc_name)\n",
        "  return cf_learn\n",
        "\n",
        "\n",
        "def init_cf_cycles(learner, lr, moms, wd, clbks, n_cycles=1):\n",
        "  print(f'init cf lr: {lr}')\n",
        "  reset_all_nondeterministic_states()\n",
        "  learner.fit_one_cycle(n_cycles, lr, moms=moms, wd=wd, callbacks=clbks)\n",
        "  return learner\n",
        "\n",
        "\n",
        "def tune_cf_cycles(\n",
        "    learner,\n",
        "    lr,\n",
        "    moms,\n",
        "    wd,\n",
        "    clbks_tuple,\n",
        "    n_cycles_tuple=(1,1,2),\n",
        "    freeze_steps=(-2,-3,None),\n",
        "    lr_decays=(2,2,5)\n",
        "):\n",
        "  reset_all_nondeterministic_states()\n",
        "  for n_cycles, freeze_step, lr_decay, clbks in zip(\n",
        "      n_cycles_tuple, freeze_steps, lr_decays, clbks_tuple):\n",
        "    if freeze_step is not None:\n",
        "      learner.freeze_to(freeze_step)\n",
        "    else:\n",
        "      learner.unfreeze()\n",
        "    lr /= lr_decay\n",
        "    print(f'tune cf lr: {lr}')\n",
        "    learner.fit_one_cycle(n_cycles, slice(lr/(2.6**4),lr), moms=moms, wd=wd, callbacks=clbks)\n",
        "  return learner"
      ],
      "execution_count": 0,
      "outputs": []
    },
    {
      "cell_type": "code",
      "metadata": {
        "id": "HdWmkxty2JfW",
        "colab_type": "code",
        "colab": {}
      },
      "source": [
        "def double_redact(txt_p, txt_id, chance, noise='xxunk', seed=SEED):\n",
        "    random.seed(seed)\n",
        "#     pick_some = False\n",
        "#     picks = 1 if pick_some else None\n",
        "    with open(txt_p, 'r') as txt_f:\n",
        "        txt = txt_f.read()\n",
        "        chosen_idx_set_list = []\n",
        "        tkns = txt.split()\n",
        "        tkn_cnt = len(tkns)\n",
        "        tkn_idx_set = set(range(tkn_cnt))\n",
        "        sample_cnt = math.ceil(tkn_cnt * chance)\n",
        "#         picked = 0\n",
        "        while sample_cnt <= tkn_cnt:\n",
        "            chosen_idx_set = set(random.sample(sorted(tkn_idx_set), k=sample_cnt))\n",
        "            chosen_idx_set_list += [chosen_idx_set]\n",
        "            tkn_idx_set -= chosen_idx_set\n",
        "            tkn_cnt = len(tkn_idx_set)\n",
        "#             picked += 1\n",
        "#             if pick_some and picked == picks:\n",
        "#                 break\n",
        "        for variation, idx_set in enumerate(chosen_idx_set_list):\n",
        "            redacted_tkns = tkns.copy()\n",
        "            redacted_txt_p = txt_p.parent / f'{txt_p.stem}_ag-c{chance}-v{variation}-dr{txt_p.suffix}'\n",
        "            with open(redacted_txt_p, 'w') as redacted_txt_f:\n",
        "                for chosen_idx in idx_set:\n",
        "                    redacted_tkns[chosen_idx] = noise\n",
        "                redacted_txt_f.write(' '.join(redacted_tkns))"
      ],
      "execution_count": 0,
      "outputs": []
    },
    {
      "cell_type": "code",
      "metadata": {
        "id": "4XJYVSWP2JfX",
        "colab_type": "code",
        "colab": {}
      },
      "source": [
        ""
      ],
      "execution_count": 0,
      "outputs": []
    },
    {
      "cell_type": "code",
      "metadata": {
        "id": "krPygxANMltW",
        "colab_type": "code",
        "colab": {}
      },
      "source": [
        ""
      ],
      "execution_count": 0,
      "outputs": []
    },
    {
      "cell_type": "markdown",
      "metadata": {
        "id": "USfAQnTUWvZ-",
        "colab_type": "text"
      },
      "source": [
        "## Augment"
      ]
    },
    {
      "cell_type": "code",
      "metadata": {
        "id": "-xGpfjFrNArh",
        "colab_type": "code",
        "colab": {
          "base_uri": "https://localhost:8080/",
          "height": 84
        },
        "outputId": "2191641b-2b47-4030-9652-1591cf74969d"
      },
      "source": [
        "orig_trn_txts = list(IMDB_DATA_IN_COLAB_DIR_P.glob(f'./train/*/*[0-9].txt'))\n",
        "sorted(orig_trn_txts)[:3]"
      ],
      "execution_count": 23,
      "outputs": [
        {
          "output_type": "execute_result",
          "data": {
            "text/plain": [
              "[PosixPath('/content/data/imdb/train/neg/0_3.txt'),\n",
              " PosixPath('/content/data/imdb/train/neg/10000_4.txt'),\n",
              " PosixPath('/content/data/imdb/train/neg/10001_4.txt')]"
            ]
          },
          "metadata": {
            "tags": []
          },
          "execution_count": 23
        }
      ]
    },
    {
      "cell_type": "code",
      "metadata": {
        "id": "_WTbXZ4VM4qX",
        "colab_type": "code",
        "colab": {
          "base_uri": "https://localhost:8080/",
          "height": 216
        },
        "outputId": "f36d7881-cf5d-49f3-aab0-9a536841d7ab"
      },
      "source": [
        "# Single-threaded although the func is compatible with fastai's `parallel()`\n",
        "\n",
        "redact_chance = 0.3\n",
        "for i, orig_trn_txt in enumerate(orig_trn_txts):\n",
        "  double_redact(orig_trn_txt, i, redact_chance)\n",
        "dr_trn_txts = list(IMDB_DATA_IN_COLAB_DIR_P.glob(f'./train/*/*[!0-9].txt'))\n",
        "sorted(dr_trn_txts)[:9]"
      ],
      "execution_count": 25,
      "outputs": [
        {
          "output_type": "execute_result",
          "data": {
            "text/plain": [
              "[PosixPath('/content/data/imdb/train/neg/0_3_ag-c0.3-v0-dr.txt'),\n",
              " PosixPath('/content/data/imdb/train/neg/0_3_ag-c0.3-v1-dr.txt'),\n",
              " PosixPath('/content/data/imdb/train/neg/0_3_ag-c0.3-v2-dr.txt'),\n",
              " PosixPath('/content/data/imdb/train/neg/10000_4_ag-c0.3-v0-dr.txt'),\n",
              " PosixPath('/content/data/imdb/train/neg/10000_4_ag-c0.3-v1-dr.txt'),\n",
              " PosixPath('/content/data/imdb/train/neg/10000_4_ag-c0.3-v2-dr.txt'),\n",
              " PosixPath('/content/data/imdb/train/neg/10001_4_ag-c0.3-v0-dr.txt'),\n",
              " PosixPath('/content/data/imdb/train/neg/10001_4_ag-c0.3-v1-dr.txt'),\n",
              " PosixPath('/content/data/imdb/train/neg/10001_4_ag-c0.3-v2-dr.txt')]"
            ]
          },
          "metadata": {
            "tags": []
          },
          "execution_count": 25
        }
      ]
    },
    {
      "cell_type": "code",
      "metadata": {
        "id": "-et30j7pNaPc",
        "colab_type": "code",
        "colab": {
          "base_uri": "https://localhost:8080/",
          "height": 84
        },
        "outputId": "393a6734-c1d8-4d5f-baff-74003d5a8ba2"
      },
      "source": [
        "n_orig_trn = len(orig_trn_txts)\n",
        "n_dr_trn = len(dr_trn_txts)\n",
        "n_all_trn = len(list(IMDB_DATA_IN_COLAB_DIR_P.glob(f'./train/*/*.txt')))\n",
        "print(f'{n_orig_trn} original\\n{n_dr_trn} double-redacted\\n{n_all_trn} total')"
      ],
      "execution_count": 37,
      "outputs": [
        {
          "output_type": "stream",
          "text": [
            "25000 original\n",
            "74996 double-redacted\n",
            "99996 total\n"
          ],
          "name": "stdout"
        }
      ]
    },
    {
      "cell_type": "code",
      "metadata": {
        "id": "UCiuT8kSGX4B",
        "colab_type": "code",
        "colab": {}
      },
      "source": [
        "reset_all_nondeterministic_states()\n",
        "fw_lm_dbnch = load_data(DATA_DIR_P, FW_LM_DBNCH_FILE_S, bs=LM_BS, bptt=BPTT, num_workers=n_dbnch_wrkrs)"
      ],
      "execution_count": 0,
      "outputs": []
    },
    {
      "cell_type": "code",
      "metadata": {
        "id": "Ox4nIaZlDcOu",
        "colab_type": "code",
        "colab": {}
      },
      "source": [
        "fw_cf_dbnch_dr = build_cf_databunch(IMDB_DATA_IN_COLAB_DIR_P, n_dbnch_wrkrs, cf_bs, fw_lm_dbnch.vocab)\n",
        "fw_cf_dbnch_dr_fname = f'fw_cf_dbnch-dr{redact_chance}-b{cf_bs}.pkl'\n",
        "fw_cf_dbnch_dr.save(DATA_DIR_P / fw_cf_dbnch_dr_fname)"
      ],
      "execution_count": 0,
      "outputs": []
    },
    {
      "cell_type": "markdown",
      "metadata": {
        "id": "xChgvQH5XFa4",
        "colab_type": "text"
      },
      "source": [
        "## Fit Double-redacted Data in All Cycles"
      ]
    },
    {
      "cell_type": "code",
      "metadata": {
        "id": "7ZD2wDLIA_o7",
        "colab_type": "code",
        "colab": {}
      },
      "source": [
        "fw_cf_dr_learn = init_cf_learner_with_encoder(fw_cf_dbnch_dr, cf_drop_mult, FW_ENC_NAME)"
      ],
      "execution_count": 0,
      "outputs": []
    },
    {
      "cell_type": "markdown",
      "metadata": {
        "id": "uTD7i8qWnfSj",
        "colab_type": "text"
      },
      "source": [
        "### Init-fit"
      ]
    },
    {
      "cell_type": "code",
      "metadata": {
        "id": "4Ehle9w-BHeI",
        "colab_type": "code",
        "colab": {
          "base_uri": "https://localhost:8080/",
          "height": 84
        },
        "outputId": "f28df299-f4f8-43d7-f5e2-2469e7b4a663"
      },
      "source": [
        "cf_lr = 5.18e-2\n",
        "init_fw_cf_dr_log_p = LOGS_DIR_P / f'{SESSN_START_T}_history-init_fw_cf-dr{redact_chance}-b{cf_bs}-lr{cf_lr}'\n",
        "init_fw_cf_dr_clbks = [CSVLogger(fw_cf_dr_learn, init_fw_cf_dr_log_p, append=True)]\n",
        "fw_cf_dr_learn = init_cf_cycles(fw_cf_dr_learn, cf_lr, moms, cf_wd, init_fw_cf_dr_clbks)"
      ],
      "execution_count": 49,
      "outputs": [
        {
          "output_type": "stream",
          "text": [
            "init cf lr: 0.0518\n",
            "epoch     train_loss  valid_loss  accuracy  time    \n",
            "0         0.278960    0.173263    0.933920  11:36     \n"
          ],
          "name": "stdout"
        }
      ]
    },
    {
      "cell_type": "markdown",
      "metadata": {
        "id": "Ff6Kt-VrTs8T",
        "colab_type": "text"
      },
      "source": [
        "\n",
        "#### Comparing with baselines of init. cycle\n",
        "----\n",
        "    Mike\n",
        "    0         0.222152    0.176532    0.934160  04:57\n",
        "\n",
        "----\n",
        "    fastai example\n",
        "    0         0.246949    0.180387    0.931840  01:14"
      ]
    },
    {
      "cell_type": "markdown",
      "metadata": {
        "id": "Am-5r4INnXxi",
        "colab_type": "text"
      },
      "source": [
        "### Fine-tune"
      ]
    },
    {
      "cell_type": "code",
      "metadata": {
        "id": "Mjc6W2z2BKnl",
        "colab_type": "code",
        "colab": {
          "base_uri": "https://localhost:8080/",
          "height": 238
        },
        "outputId": "e40b17f2-d856-4a59-c7ec-6e75bc3f2724"
      },
      "source": [
        "tune_fw_cf_dr_clbks_tuple = (\n",
        "    [CSVLogger(\n",
        "        fw_cf_dr_learn,\n",
        "        LOGS_DIR_P / f'{SESSN_START_T}_history-tune_fw_cf-dr{redact_chance}-b{cf_bs}-p{period}',\n",
        "        append=True)]\n",
        "    for period in range(1,4)\n",
        ")\n",
        "fw_cf_dr_learn = tune_cf_cycles(fw_cf_dr_learn, cf_lr, moms, cf_wd, tune_fw_cf_dr_clbks_tuple)\n",
        "# fw_cf_dr_learn.save(fw_cf_dr_fname)\n",
        "# (fw_cf_dr_learn.path/fw_cf_learn.model_dir).ls()"
      ],
      "execution_count": 50,
      "outputs": [
        {
          "output_type": "stream",
          "text": [
            "tune cf lr: 0.0259\n",
            "epoch     train_loss  valid_loss  accuracy  time    \n",
            "0         0.206510    0.137578    0.949840  13:55     \n",
            "tune cf lr: 0.01295\n",
            "epoch     train_loss  valid_loss  accuracy  time    \n",
            "0         0.170256    0.135338    0.950080  18:30     \n",
            "tune cf lr: 0.00259\n",
            "epoch     train_loss  valid_loss  accuracy  time    \n",
            "0         0.118340    0.146070    0.949160  28:36     \n",
            "1         0.061189    0.177552    0.949440  26:11     \n"
          ],
          "name": "stdout"
        }
      ]
    },
    {
      "cell_type": "markdown",
      "metadata": {
        "id": "gSk86yCYVa-k",
        "colab_type": "text"
      },
      "source": [
        "#### Comparing with baselines of fine-tuning cycles\n",
        "----\n",
        "    Mike\n",
        "    0         0.190170    0.153062    0.944160  05:36\n",
        "    0         0.180019    0.138620    0.949240  08:08\n",
        "    0         0.130078    0.143215    0.945520  09:48\n",
        "    1         0.083496    0.142682    0.949720  09:03\n",
        "\n",
        "----\n",
        "    fastai example\n",
        "    0         0.206164    0.152391    0.945360  01:28\n",
        "    0         0.181309    0.141463    0.948080  02:30\n",
        "    0         0.123944    0.145212    0.948840  03:18\n",
        "    1         0.072845    0.155692    0.949560  03:00\n"
      ]
    },
    {
      "cell_type": "code",
      "metadata": {
        "id": "QSZ3f1hABP0R",
        "colab_type": "code",
        "colab": {}
      },
      "source": [
        "fw_cf_dr_learn.export(MDLS_DIR_P / f'export-fw_cf-dr{redact_chance}-b{cf_bs}-lr{cf_lr}')"
      ],
      "execution_count": 0,
      "outputs": []
    },
    {
      "cell_type": "code",
      "metadata": {
        "id": "dVMDmxYGBTb6",
        "colab_type": "code",
        "colab": {}
      },
      "source": [
        "fw_cf_dr_learn.destroy(); del fw_cf_dr_learn; gc.collect()"
      ],
      "execution_count": 0,
      "outputs": []
    },
    {
      "cell_type": "markdown",
      "metadata": {
        "id": "hKHl-Fk1uIg9",
        "colab_type": "text"
      },
      "source": [
        "## Fit Double-redacted Data in Middle Cycles (3-Act Structure)"
      ]
    },
    {
      "cell_type": "markdown",
      "metadata": {
        "id": "zAI9ydFNw4UF",
        "colab_type": "text"
      },
      "source": [
        "### Act-1: Setup on Orig. Data"
      ]
    },
    {
      "cell_type": "code",
      "metadata": {
        "id": "88T8KXiKuX-j",
        "colab_type": "code",
        "colab": {}
      },
      "source": [
        "reset_all_nondeterministic_states()\n",
        "fw_cf_dbnch = load_data(DATA_DIR_P, FW_CF_DBNCH_FILE_S, bs=cf_bs, num_workers=n_dbnch_wrkrs)"
      ],
      "execution_count": 0,
      "outputs": []
    },
    {
      "cell_type": "code",
      "metadata": {
        "id": "spIjbm94wOb_",
        "colab_type": "code",
        "colab": {
          "base_uri": "https://localhost:8080/",
          "height": 84
        },
        "outputId": "ff738a03-aa9c-475d-f914-cd68c3ea946f"
      },
      "source": [
        "# Trying to reproduce the result here; next time just loading the model will do.\n",
        "a1_fw_cf_learn = init_cf_learner_with_encoder(fw_cf_dbnch, cf_drop_mult, FW_ENC_NAME)\n",
        "a1_fw_cf_log_p = LOGS_DIR_P / f'{SESSN_START_T}_history-act1_fw_cf-b{cf_bs}-lr{cf_lr}'\n",
        "a1_fw_cf_clbks = [CSVLogger(a1_fw_cf_learn, a1_fw_cf_log_p, append=True)]\n",
        "a1_fw_cf_learn = init_cf_cycles(a1_fw_cf_learn, cf_lr, moms, cf_wd, a1_fw_cf_clbks)"
      ],
      "execution_count": 56,
      "outputs": [
        {
          "output_type": "stream",
          "text": [
            "init cf lr: 0.0518\n",
            "epoch     train_loss  valid_loss  accuracy  time    \n",
            "0         0.222152    0.176532    0.934160  04:20     \n"
          ],
          "name": "stdout"
        }
      ]
    },
    {
      "cell_type": "code",
      "metadata": {
        "id": "2vcE9_pyyiKw",
        "colab_type": "code",
        "colab": {}
      },
      "source": [
        "FW_CF_SETUP_NAME = f'fw_cf-act1-b{cf_bs}-lr{cf_lr}'\n",
        "a1_fw_cf_learn.save(FW_CF_SETUP_NAME)"
      ],
      "execution_count": 0,
      "outputs": []
    },
    {
      "cell_type": "code",
      "metadata": {
        "id": "0aOA4bjZzBKH",
        "colab_type": "code",
        "colab": {}
      },
      "source": [
        "a1_fw_cf_learn.destroy(); del a1_fw_cf_learn; gc.collect()"
      ],
      "execution_count": 0,
      "outputs": []
    },
    {
      "cell_type": "markdown",
      "metadata": {
        "id": "tQODQ5nlw-1T",
        "colab_type": "text"
      },
      "source": [
        "### Act-2: Confrontation on Double-redacted Data"
      ]
    },
    {
      "cell_type": "code",
      "metadata": {
        "id": "cbGBn5PrwWR5",
        "colab_type": "code",
        "colab": {}
      },
      "source": [
        "a2_fw_cf_dr_learn = init_cf_learner_with_encoder(fw_cf_dbnch_dr, cf_drop_mult, FW_ENC_NAME)"
      ],
      "execution_count": 0,
      "outputs": []
    },
    {
      "cell_type": "code",
      "metadata": {
        "id": "7cIY_VXizIhY",
        "colab_type": "code",
        "colab": {}
      },
      "source": [
        "a2_fw_cf_dr_learn = a2_fw_cf_dr_learn.load(FW_CF_SETUP_NAME)"
      ],
      "execution_count": 0,
      "outputs": []
    },
    {
      "cell_type": "code",
      "metadata": {
        "id": "oKArnv9OzZhE",
        "colab_type": "code",
        "colab": {
          "base_uri": "https://localhost:8080/",
          "height": 150
        },
        "outputId": "c0c48a38-d375-485b-a929-d88860a7f450"
      },
      "source": [
        "a2_tune_fw_cf_dr_clbks_tuple = (\n",
        "    [CSVLogger(\n",
        "        a2_fw_cf_dr_learn,\n",
        "        LOGS_DIR_P / f'{SESSN_START_T}_history-tune_fw_cf-act2-dr{redact_chance}-b{cf_bs}-p{period}',\n",
        "        append=True)]\n",
        "    for period in range(1,3)\n",
        ")\n",
        "a2_fw_cf_dr_learn = tune_cf_cycles(\n",
        "    a2_fw_cf_dr_learn,\n",
        "    cf_lr,\n",
        "    moms,\n",
        "    cf_wd,\n",
        "    a2_tune_fw_cf_dr_clbks_tuple,\n",
        "    n_cycles_tuple=(1,1),\n",
        "    freeze_steps=(-2,-3),\n",
        "    lr_decays=(2,2)\n",
        ")"
      ],
      "execution_count": 61,
      "outputs": [
        {
          "output_type": "stream",
          "text": [
            "tune cf lr: 0.0259\n",
            "epoch     train_loss  valid_loss  accuracy  time    \n",
            "0         0.210150    0.137580    0.949360  13:56     \n",
            "tune cf lr: 0.01295\n",
            "epoch     train_loss  valid_loss  accuracy  time    \n",
            "0         0.170021    0.137166    0.949240  18:29     \n"
          ],
          "name": "stdout"
        }
      ]
    },
    {
      "cell_type": "code",
      "metadata": {
        "id": "NR9czS020JGg",
        "colab_type": "code",
        "colab": {}
      },
      "source": [
        "FW_CF_CONFRONTATION_NAME = f'fw_cf-act2-dr{redact_chance}-b{cf_bs}-lr{cf_lr}'\n",
        "a2_fw_cf_dr_learn.save(FW_CF_CONFRONTATION_NAME)"
      ],
      "execution_count": 0,
      "outputs": []
    },
    {
      "cell_type": "code",
      "metadata": {
        "id": "szMyWq2N3_ef",
        "colab_type": "code",
        "colab": {}
      },
      "source": [
        "a2_fw_cf_dr_learn.destroy(); del a2_fw_cf_dr_learn; gc.collect()"
      ],
      "execution_count": 0,
      "outputs": []
    },
    {
      "cell_type": "markdown",
      "metadata": {
        "id": "gLNVRqRX3hZo",
        "colab_type": "text"
      },
      "source": [
        "### Act-3: Resolution on Orig. Data"
      ]
    },
    {
      "cell_type": "code",
      "metadata": {
        "id": "P-vawQdD3mow",
        "colab_type": "code",
        "colab": {}
      },
      "source": [
        "a3_fw_cf_learn = init_cf_learner_with_encoder(fw_cf_dbnch, cf_drop_mult, FW_ENC_NAME)"
      ],
      "execution_count": 0,
      "outputs": []
    },
    {
      "cell_type": "code",
      "metadata": {
        "id": "pgqJKQ_M3uWO",
        "colab_type": "code",
        "colab": {}
      },
      "source": [
        "a3_fw_cf_learn = a3_fw_cf_learn.load(FW_CF_CONFRONTATION_NAME)"
      ],
      "execution_count": 0,
      "outputs": []
    },
    {
      "cell_type": "code",
      "metadata": {
        "id": "OX1Pine-4EkK",
        "colab_type": "code",
        "colab": {
          "base_uri": "https://localhost:8080/",
          "height": 62
        },
        "outputId": "8ea2132f-74a7-4bc7-97e5-d94f0cca1a9e"
      },
      "source": [
        "a3_tune_fw_cf_clbks_tuple = (\n",
        "    [CSVLogger(\n",
        "        a3_fw_cf_learn,\n",
        "        LOGS_DIR_P / f'{SESSN_START_T}_history-tune_fw_cf-act3-b{cf_bs}-p3',\n",
        "        append=True)],\n",
        ")\n",
        "a3_fw_cf_learn = tune_cf_cycles(\n",
        "    a3_fw_cf_learn,\n",
        "    cf_lr,\n",
        "    moms,\n",
        "    cf_wd,\n",
        "    a3_tune_fw_cf_clbks_tuple,\n",
        "    n_cycles_tuple=(2,),\n",
        "    freeze_steps=(None,),\n",
        "    lr_decays=(2*2*5,)\n",
        ")"
      ],
      "execution_count": 0,
      "outputs": [
        {
          "output_type": "stream",
          "text": [
            "tune cf lr: 0.00259\n",
            "epoch     train_loss  valid_loss  accuracy  time    \n"
          ],
          "name": "stdout"
        }
      ]
    },
    {
      "cell_type": "code",
      "metadata": {
        "id": "W8y_l63y5oAZ",
        "colab_type": "code",
        "colab": {}
      },
      "source": [
        "FW_CF_RESOLUTION_NAME = f'fw_cf-act3-b{cf_bs}-lr{cf_lr}'\n",
        "a3_fw_cf_learn.save(FW_CF_RESOLUTION_NAME)"
      ],
      "execution_count": 0,
      "outputs": []
    },
    {
      "cell_type": "code",
      "metadata": {
        "id": "vDwOBlxc6OYK",
        "colab_type": "code",
        "colab": {}
      },
      "source": [
        "a3_fw_cf_learn.destroy(); del a3_fw_cf_learn; gc.collect()"
      ],
      "execution_count": 0,
      "outputs": []
    }
  ]
}